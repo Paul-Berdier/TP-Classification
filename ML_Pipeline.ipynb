{
 "cells": [
  {
   "metadata": {},
   "cell_type": "code",
   "outputs": [],
   "execution_count": null,
   "source": [
    "import kagglehub\n",
    "\n",
    "# Download latest version\n",
    "path = kagglehub.dataset_download(\"uciml/pima-indians-diabetes-database\")"
   ],
   "id": "29f7091b13a91d58"
  },
  {
   "metadata": {},
   "cell_type": "code",
   "outputs": [],
   "execution_count": null,
   "source": [
    "import pandas as pd\n",
    "import os\n",
    "\n",
    "# Exemple : ouvrir le fichier CSV\n",
    "csv_path = os.path.join(path, \"diabetes.csv\")  # adapte le nom si différent\n",
    "df = pd.read_csv(csv_path)\n",
    "\n",
    "# Afficher les premières lignes\n",
    "df"
   ],
   "id": "d0cf78410e9cbf7"
  },
  {
   "metadata": {},
   "cell_type": "markdown",
   "source": [
    "# Analyse statistiques\n",
    "\n",
    "Apres analyse on constate que les valeures :"
   ],
   "id": "a7c139d4418b65b3"
  }
 ],
 "metadata": {},
 "nbformat": 5,
 "nbformat_minor": 9
}
